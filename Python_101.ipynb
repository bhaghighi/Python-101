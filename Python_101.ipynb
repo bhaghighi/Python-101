{
  "nbformat": 4,
  "nbformat_minor": 0,
  "metadata": {
    "colab": {
      "name": "Python_101.ipynb",
      "provenance": [],
      "authorship_tag": "ABX9TyN6khs6z8qOXlPoTwad+SMc",
      "include_colab_link": true
    },
    "kernelspec": {
      "name": "python3",
      "display_name": "Python 3"
    }
  },
  "cells": [
    {
      "cell_type": "markdown",
      "metadata": {
        "id": "view-in-github",
        "colab_type": "text"
      },
      "source": [
        "<a href=\"https://colab.research.google.com/github/bhaghighi/Python-101/blob/master/Python_101.ipynb\" target=\"_parent\"><img src=\"https://colab.research.google.com/assets/colab-badge.svg\" alt=\"Open In Colab\"/></a>"
      ]
    },
    {
      "cell_type": "markdown",
      "metadata": {
        "id": "kzHWXiOy6GN6"
      },
      "source": [
        "#Python 101 questions"
      ]
    },
    {
      "cell_type": "markdown",
      "metadata": {
        "id": "9ht4AdN_6iHz"
      },
      "source": [
        "**itertools.izip(*iterables) vs zip() in Python 3**"
      ]
    },
    {
      "cell_type": "code",
      "metadata": {
        "id": "1cY5pLoM6nnx"
      },
      "source": [
        ""
      ],
      "execution_count": null,
      "outputs": []
    },
    {
      "cell_type": "code",
      "metadata": {
        "id": "1Xv0SkJY6kGH"
      },
      "source": [
        ""
      ],
      "execution_count": null,
      "outputs": []
    }
  ]
}